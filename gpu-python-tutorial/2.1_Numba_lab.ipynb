{
  "cells": [
    {
      "cell_type": "code",
      "source": [
        "!uv pip install -q --system numba-cuda==0.4.0"
      ],
      "metadata": {
        "id": "XrYEsGunOMKG"
      },
      "id": "XrYEsGunOMKG",
      "execution_count": 10,
      "outputs": []
    },
    {
      "cell_type": "code",
      "source": [
        "from numba import config\n",
        "config.CUDA_ENABLE_PYNVJITLINK = 1"
      ],
      "metadata": {
        "id": "FH9YZgaxObSY"
      },
      "id": "FH9YZgaxObSY",
      "execution_count": 11,
      "outputs": []
    },
    {
      "cell_type": "markdown",
      "id": "9af66fe0-71ee-4a4c-b16d-e7288a7aa863",
      "metadata": {
        "id": "9af66fe0-71ee-4a4c-b16d-e7288a7aa863"
      },
      "source": [
        "# Numba Lab\n",
        "\n",
        "Now it's your turn!\n",
        "\n",
        "Your challenge is to implement Fizz Buzz in CUDA Python with Numba and calculate all instances of `Fizz`, `Buzz`, and `Fizz Buzz` for the numbers between `1` and `50_000_000`.\n",
        "\n",
        "Before you begin, if you're running this notebook in Google Colab, please turn off autocompletion by going to the settings gear in the top right -> Editor -> Uncheck \"Automatically trigger code completions\"."
      ]
    },
    {
      "cell_type": "code",
      "execution_count": 12,
      "id": "83342135-ae20-44f4-b807-d8a0e715a41b",
      "metadata": {
        "id": "83342135-ae20-44f4-b807-d8a0e715a41b"
      },
      "outputs": [],
      "source": [
        "import numpy as np\n",
        "from numba import cuda"
      ]
    },
    {
      "cell_type": "markdown",
      "id": "58f3fbf4-7e50-43de-9ddb-f7fd6a3cf7d3",
      "metadata": {
        "id": "58f3fbf4-7e50-43de-9ddb-f7fd6a3cf7d3"
      },
      "source": [
        "**1. Create the input data array.** Try using `np.arange`."
      ]
    },
    {
      "cell_type": "code",
      "execution_count": 13,
      "id": "75188098-ad67-4ebc-8123-48aa40071524",
      "metadata": {
        "id": "75188098-ad67-4ebc-8123-48aa40071524",
        "outputId": "4f2844d8-2587-4b3b-ab46-5dbafd00b1cf",
        "colab": {
          "base_uri": "https://localhost:8080/"
        }
      },
      "outputs": [
        {
          "output_type": "execute_result",
          "data": {
            "text/plain": [
              "array([       1,        2,        3, ..., 49999998, 49999999, 50000000])"
            ]
          },
          "metadata": {},
          "execution_count": 13
        }
      ],
      "source": [
        "data = np.arange(1,50_000_001)\n",
        "data"
      ]
    },
    {
      "cell_type": "markdown",
      "id": "3334d891-8331-4bad-8528-b16e0e2f0719",
      "metadata": {
        "id": "3334d891-8331-4bad-8528-b16e0e2f0719"
      },
      "source": [
        "**2. Create the output data array.**"
      ]
    },
    {
      "cell_type": "code",
      "execution_count": 14,
      "id": "2bc25714-5f7c-4653-b660-0fca3a7682b9",
      "metadata": {
        "id": "2bc25714-5f7c-4653-b660-0fca3a7682b9",
        "outputId": "e3cac939-73e8-4286-fde6-6795504cdb30",
        "colab": {
          "base_uri": "https://localhost:8080/"
        }
      },
      "outputs": [
        {
          "output_type": "execute_result",
          "data": {
            "text/plain": [
              "array([0, 0, 0, ..., 0, 0, 0])"
            ]
          },
          "metadata": {},
          "execution_count": 14
        }
      ],
      "source": [
        "output = np.zeros_like(data)\n",
        "output"
      ]
    },
    {
      "cell_type": "markdown",
      "id": "67ad1fed-bae3-4e1c-aaac-c90a798a8024",
      "metadata": {
        "id": "67ad1fed-bae3-4e1c-aaac-c90a798a8024"
      },
      "source": [
        "**3. Calculate the number of threads and blocks.**"
      ]
    },
    {
      "cell_type": "code",
      "execution_count": 15,
      "id": "d91f35c7-bbbc-4cd3-bd60-38231ffbbf91",
      "metadata": {
        "id": "d91f35c7-bbbc-4cd3-bd60-38231ffbbf91"
      },
      "outputs": [],
      "source": [
        "threads = 128\n",
        "blocks = data.shape[0] // threads + 1"
      ]
    },
    {
      "cell_type": "markdown",
      "id": "9d562640-0cd6-434c-9f90-8e7ebc02ccba",
      "metadata": {
        "id": "9d562640-0cd6-434c-9f90-8e7ebc02ccba"
      },
      "source": [
        "**4. Create the kernel.** _Tip: Our output array must be numeric so try using the values `1`, `2`, and `3` to represent `Fizz`, `Buzz`, and `Fizz Buzz`._"
      ]
    },
    {
      "cell_type": "code",
      "execution_count": 28,
      "id": "5706c5b9-6010-407e-95a3-6cecade6ab5c",
      "metadata": {
        "id": "5706c5b9-6010-407e-95a3-6cecade6ab5c"
      },
      "outputs": [],
      "source": [
        "@cuda.jit\n",
        "def fizz_buzz(input_array, output_array):\n",
        "    i = cuda.grid(1)\n",
        "    if input_array[i] % 3 == 0:\n",
        "      output_array[i] = 1\n",
        "    if input_array[i] % 5 == 0:\n",
        "      output_array[i] = 2\n",
        "    if input_array[i] % (3 * 5) == 0:\n",
        "      output_array[i] = 3"
      ]
    },
    {
      "cell_type": "markdown",
      "id": "c0bded64-c8d3-4165-9141-54b97112e58b",
      "metadata": {
        "id": "c0bded64-c8d3-4165-9141-54b97112e58b"
      },
      "source": [
        "**5. Run our kernel.**"
      ]
    },
    {
      "cell_type": "code",
      "execution_count": 29,
      "id": "3177d207-d9c6-4624-8ed1-b4b79e6f8ba2",
      "metadata": {
        "id": "3177d207-d9c6-4624-8ed1-b4b79e6f8ba2",
        "outputId": "33b1921f-6456-48bb-aa8a-3a3b47d77189",
        "colab": {
          "base_uri": "https://localhost:8080/"
        }
      },
      "outputs": [
        {
          "output_type": "stream",
          "name": "stderr",
          "text": [
            "/usr/local/lib/python3.11/dist-packages/numba_cuda/numba/cuda/cudadrv/devicearray.py:893: NumbaPerformanceWarning: Host array used in CUDA kernel will incur copy overhead to/from device.\n",
            "  warn(NumbaPerformanceWarning(msg))\n"
          ]
        },
        {
          "output_type": "stream",
          "name": "stdout",
          "text": [
            "CPU times: user 430 ms, sys: 3.06 ms, total: 433 ms\n",
            "Wall time: 434 ms\n"
          ]
        },
        {
          "output_type": "execute_result",
          "data": {
            "text/plain": [
              "array([0, 0, 1, 0, 2, 1, 0, 0, 1, 2, 0, 1, 0, 0, 3])"
            ]
          },
          "metadata": {},
          "execution_count": 29
        }
      ],
      "source": [
        "%%time\n",
        "fizz_buzz[blocks, threads](data, output)\n",
        "output[:15]"
      ]
    },
    {
      "cell_type": "markdown",
      "id": "5fddf47e-3d1d-4cbb-9405-44141fdb5d2f",
      "metadata": {
        "id": "5fddf47e-3d1d-4cbb-9405-44141fdb5d2f"
      },
      "source": [
        "**Extra Credit 6. Calculate the highest instance of `Fizz`.**"
      ]
    },
    {
      "cell_type": "code",
      "execution_count": 46,
      "id": "a9b6ccf7-4f1b-4ad3-bad1-5dd9ea0fccb0",
      "metadata": {
        "id": "a9b6ccf7-4f1b-4ad3-bad1-5dd9ea0fccb0",
        "outputId": "39314461-94b2-43cc-efd3-8c06823e940d",
        "colab": {
          "base_uri": "https://localhost:8080/"
        }
      },
      "outputs": [
        {
          "output_type": "execute_result",
          "data": {
            "text/plain": [
              "1"
            ]
          },
          "metadata": {},
          "execution_count": 46
        }
      ],
      "source": [
        "idx = (50_000_000 // 3) * 3\n",
        "output[idx-1]"
      ]
    },
    {
      "cell_type": "code",
      "source": [],
      "metadata": {
        "id": "ThGZU-hlPEgK"
      },
      "id": "ThGZU-hlPEgK",
      "execution_count": null,
      "outputs": []
    }
  ],
  "metadata": {
    "kernelspec": {
      "display_name": "Python 3",
      "name": "python3"
    },
    "language_info": {
      "codemirror_mode": {
        "name": "ipython",
        "version": 3
      },
      "file_extension": ".py",
      "mimetype": "text/x-python",
      "name": "python",
      "nbconvert_exporter": "python",
      "pygments_lexer": "ipython3",
      "version": "3.10.13"
    },
    "colab": {
      "provenance": [],
      "gpuType": "T4"
    },
    "accelerator": "GPU"
  },
  "nbformat": 4,
  "nbformat_minor": 5
}